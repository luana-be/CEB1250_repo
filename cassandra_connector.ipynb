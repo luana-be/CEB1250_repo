{
 "cells": [
  {
   "cell_type": "code",
   "execution_count": 1,
   "metadata": {},
   "outputs": [],
   "source": [
    "from cassandra.cluster import Cluster"
   ]
  },
  {
   "cell_type": "code",
   "execution_count": 26,
   "metadata": {},
   "outputs": [],
   "source": [
    "cluster = Cluster(['127.0.0.1','9042'])  # provide contact points and port"
   ]
  },
  {
   "cell_type": "code",
   "execution_count": 27,
   "metadata": {},
   "outputs": [
    {
     "ename": "NoHostAvailable",
     "evalue": "('Unable to connect to any servers', {'127.0.0.1': ConnectionRefusedError(10061, \"Tried connecting to [('127.0.0.1', 9042)]. Last error: No connection could be made because the target machine actively refused it\")})",
     "output_type": "error",
     "traceback": [
      "\u001b[1;31m---------------------------------------------------------------------------\u001b[0m",
      "\u001b[1;31mNoHostAvailable\u001b[0m                           Traceback (most recent call last)",
      "\u001b[1;32m<ipython-input-27-64c0f81e567d>\u001b[0m in \u001b[0;36m<module>\u001b[1;34m\u001b[0m\n\u001b[1;32m----> 1\u001b[1;33m \u001b[0msession\u001b[0m \u001b[1;33m=\u001b[0m \u001b[0mcluster\u001b[0m\u001b[1;33m.\u001b[0m\u001b[0mconnect\u001b[0m\u001b[1;33m(\u001b[0m\u001b[1;34m'question_answering'\u001b[0m\u001b[1;33m)\u001b[0m\u001b[1;33m\u001b[0m\u001b[0m\n\u001b[0m",
      "\u001b[1;32mc:\\users\\luana_batista\\appdata\\local\\continuum\\anaconda3\\envs\\bigdata\\lib\\site-packages\\cassandra\\cluster.py\u001b[0m in \u001b[0;36mconnect\u001b[1;34m(self, keyspace, wait_for_all_pools)\u001b[0m\n\u001b[0;32m   1333\u001b[0m \u001b[1;33m\u001b[0m\u001b[0m\n\u001b[0;32m   1334\u001b[0m                 \u001b[1;32mtry\u001b[0m\u001b[1;33m:\u001b[0m\u001b[1;33m\u001b[0m\u001b[0m\n\u001b[1;32m-> 1335\u001b[1;33m                     \u001b[0mself\u001b[0m\u001b[1;33m.\u001b[0m\u001b[0mcontrol_connection\u001b[0m\u001b[1;33m.\u001b[0m\u001b[0mconnect\u001b[0m\u001b[1;33m(\u001b[0m\u001b[1;33m)\u001b[0m\u001b[1;33m\u001b[0m\u001b[0m\n\u001b[0m\u001b[0;32m   1336\u001b[0m \u001b[1;33m\u001b[0m\u001b[0m\n\u001b[0;32m   1337\u001b[0m                     \u001b[1;31m# we set all contact points up for connecting, but we won't infer state after this\u001b[0m\u001b[1;33m\u001b[0m\u001b[1;33m\u001b[0m\u001b[0m\n",
      "\u001b[1;32mc:\\users\\luana_batista\\appdata\\local\\continuum\\anaconda3\\envs\\bigdata\\lib\\site-packages\\cassandra\\cluster.py\u001b[0m in \u001b[0;36mconnect\u001b[1;34m(self)\u001b[0m\n\u001b[0;32m   2861\u001b[0m \u001b[1;33m\u001b[0m\u001b[0m\n\u001b[0;32m   2862\u001b[0m         \u001b[0mself\u001b[0m\u001b[1;33m.\u001b[0m\u001b[0m_protocol_version\u001b[0m \u001b[1;33m=\u001b[0m \u001b[0mself\u001b[0m\u001b[1;33m.\u001b[0m\u001b[0m_cluster\u001b[0m\u001b[1;33m.\u001b[0m\u001b[0mprotocol_version\u001b[0m\u001b[1;33m\u001b[0m\u001b[0m\n\u001b[1;32m-> 2863\u001b[1;33m         \u001b[0mself\u001b[0m\u001b[1;33m.\u001b[0m\u001b[0m_set_new_connection\u001b[0m\u001b[1;33m(\u001b[0m\u001b[0mself\u001b[0m\u001b[1;33m.\u001b[0m\u001b[0m_reconnect_internal\u001b[0m\u001b[1;33m(\u001b[0m\u001b[1;33m)\u001b[0m\u001b[1;33m)\u001b[0m\u001b[1;33m\u001b[0m\u001b[0m\n\u001b[0m\u001b[0;32m   2864\u001b[0m \u001b[1;33m\u001b[0m\u001b[0m\n\u001b[0;32m   2865\u001b[0m     \u001b[1;32mdef\u001b[0m \u001b[0m_set_new_connection\u001b[0m\u001b[1;33m(\u001b[0m\u001b[0mself\u001b[0m\u001b[1;33m,\u001b[0m \u001b[0mconn\u001b[0m\u001b[1;33m)\u001b[0m\u001b[1;33m:\u001b[0m\u001b[1;33m\u001b[0m\u001b[0m\n",
      "\u001b[1;32mc:\\users\\luana_batista\\appdata\\local\\continuum\\anaconda3\\envs\\bigdata\\lib\\site-packages\\cassandra\\cluster.py\u001b[0m in \u001b[0;36m_reconnect_internal\u001b[1;34m(self)\u001b[0m\n\u001b[0;32m   2904\u001b[0m                 \u001b[1;32mraise\u001b[0m \u001b[0mDriverException\u001b[0m\u001b[1;33m(\u001b[0m\u001b[1;34m\"[control connection] Reconnection in progress during shutdown\"\u001b[0m\u001b[1;33m)\u001b[0m\u001b[1;33m\u001b[0m\u001b[0m\n\u001b[0;32m   2905\u001b[0m \u001b[1;33m\u001b[0m\u001b[0m\n\u001b[1;32m-> 2906\u001b[1;33m         \u001b[1;32mraise\u001b[0m \u001b[0mNoHostAvailable\u001b[0m\u001b[1;33m(\u001b[0m\u001b[1;34m\"Unable to connect to any servers\"\u001b[0m\u001b[1;33m,\u001b[0m \u001b[0merrors\u001b[0m\u001b[1;33m)\u001b[0m\u001b[1;33m\u001b[0m\u001b[0m\n\u001b[0m\u001b[0;32m   2907\u001b[0m \u001b[1;33m\u001b[0m\u001b[0m\n\u001b[0;32m   2908\u001b[0m     \u001b[1;32mdef\u001b[0m \u001b[0m_try_connect\u001b[0m\u001b[1;33m(\u001b[0m\u001b[0mself\u001b[0m\u001b[1;33m,\u001b[0m \u001b[0mhost\u001b[0m\u001b[1;33m)\u001b[0m\u001b[1;33m:\u001b[0m\u001b[1;33m\u001b[0m\u001b[0m\n",
      "\u001b[1;31mNoHostAvailable\u001b[0m: ('Unable to connect to any servers', {'127.0.0.1': ConnectionRefusedError(10061, \"Tried connecting to [('127.0.0.1', 9042)]. Last error: No connection could be made because the target machine actively refused it\")})"
     ]
    }
   ],
   "source": [
    "session = cluster.connect('question_answering')"
   ]
  },
  {
   "cell_type": "code",
   "execution_count": null,
   "metadata": {},
   "outputs": [],
   "source": []
  }
 ],
 "metadata": {
  "kernelspec": {
   "display_name": "Python 3",
   "language": "python",
   "name": "python3"
  },
  "language_info": {
   "codemirror_mode": {
    "name": "ipython",
    "version": 3
   },
   "file_extension": ".py",
   "mimetype": "text/x-python",
   "name": "python",
   "nbconvert_exporter": "python",
   "pygments_lexer": "ipython3",
   "version": "3.5.6"
  }
 },
 "nbformat": 4,
 "nbformat_minor": 2
}
