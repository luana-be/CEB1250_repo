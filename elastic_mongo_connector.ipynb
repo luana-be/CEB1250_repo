{
 "cells": [
  {
   "cell_type": "code",
   "execution_count": 27,
   "metadata": {},
   "outputs": [],
   "source": [
    "#elasticsearch has been connected to mongodb by using the command line:\n",
    "#mongo-connector -m localhost:27017 -t localhost:9200 -d elastic_doc_manager\n",
    "#Mongo Connector gives each MongoDB database its own index in Elasticsearch. \n",
    "#Each MongoDB collection becomes its own mapping type. \n",
    "#For example, documents from the collection kittens in the database animals will put into the \n",
    "#animals index in Elasticsearch with a mapping type of kittens. "
   ]
  },
  {
   "cell_type": "code",
   "execution_count": null,
   "metadata": {},
   "outputs": [],
   "source": [
    "from elasticsearch import Elasticsearch\n",
    "from datetime import datetime\n",
    "from elasticsearch_dsl.query import MultiMatch, Match"
   ]
  },
  {
   "cell_type": "code",
   "execution_count": 28,
   "metadata": {},
   "outputs": [],
   "source": [
    "es = Elasticsearch()"
   ]
  },
  {
   "cell_type": "code",
   "execution_count": 29,
   "metadata": {},
   "outputs": [
    {
     "name": "stdout",
     "output_type": "stream",
     "text": [
      "{'timed_out': False, 'hits': {'max_score': 1.0, 'hits': [{'_id': '5c8d7e12c9a81c9eb1498c95', '_score': 1.0, '_type': 'question_answer_pairs', '_source': {'answer': 'F1 is a function key', 'question_date': '2019-03-16T22:52:02.858000', 'question_categories': ['all', 'computers'], 'answer_date': '2019-03-16T22:52:02.858000', 'answer_votes': 0.0, 'question': 'What is F1'}, '_index': 'question_answering'}, {'_id': '5c8d7e00c9a81c9eb1498c94', '_score': 1.0, '_type': 'question_answer_pairs', '_source': {'answer': 'F1 is a sport', 'question_date': '2019-03-16T22:51:44.939000', 'question_categories': ['all'], 'answer_date': '2019-03-16T22:51:54.307000', 'answer_votes': 0.0, 'question': 'What is F1'}, '_index': 'question_answering'}], 'total': 2}, 'took': 5, '_shards': {'successful': 5, 'failed': 0, 'skipped': 0, 'total': 5}}\n"
     ]
    }
   ],
   "source": [
    "#complete match with high score ('max_score': 1.0)\n",
    "res = es.search(index=\"question_answering\", doc_type=\"question_answer_pairs\", body={\"query\": {\"match\": {\"answer_votes\": 0}}})\n",
    "print(res)"
   ]
  },
  {
   "cell_type": "code",
   "execution_count": 30,
   "metadata": {},
   "outputs": [
    {
     "name": "stdout",
     "output_type": "stream",
     "text": [
      "{'timed_out': False, 'hits': {'max_score': 0.2876821, 'hits': [{'_id': '5c8d7e12c9a81c9eb1498c95', '_score': 0.2876821, '_type': 'question_answer_pairs', '_source': {'answer': 'F1 is a function key', 'question_date': '2019-03-16T22:52:02.858000', 'question_categories': ['all', 'computers'], 'answer_date': '2019-03-16T22:52:02.858000', 'answer_votes': 0.0, 'question': 'What is F1'}, '_index': 'question_answering'}, {'_id': '5c8d7e00c9a81c9eb1498c94', '_score': 0.2876821, '_type': 'question_answer_pairs', '_source': {'answer': 'F1 is a sport', 'question_date': '2019-03-16T22:51:44.939000', 'question_categories': ['all'], 'answer_date': '2019-03-16T22:51:54.307000', 'answer_votes': 0.0, 'question': 'What is F1'}, '_index': 'question_answering'}], 'total': 2}, 'took': 9, '_shards': {'successful': 5, 'failed': 0, 'skipped': 0, 'total': 5}}\n"
     ]
    }
   ],
   "source": [
    "#partial match with low score ('max_score': 0.2876821)\n",
    "res = es.search(index=\"question_answering\", doc_type=\"question_answer_pairs\", body={\"query\": {\"match\": {\"question\": \"F1\"}}})\n",
    "print(res)"
   ]
  },
  {
   "cell_type": "code",
   "execution_count": null,
   "metadata": {},
   "outputs": [],
   "source": []
  }
 ],
 "metadata": {
  "kernelspec": {
   "display_name": "Python 3",
   "language": "python",
   "name": "python3"
  },
  "language_info": {
   "codemirror_mode": {
    "name": "ipython",
    "version": 3
   },
   "file_extension": ".py",
   "mimetype": "text/x-python",
   "name": "python",
   "nbconvert_exporter": "python",
   "pygments_lexer": "ipython3",
   "version": "3.5.6"
  }
 },
 "nbformat": 4,
 "nbformat_minor": 2
}
