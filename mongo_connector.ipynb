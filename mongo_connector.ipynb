{
 "cells": [
  {
   "cell_type": "code",
   "execution_count": 27,
   "metadata": {},
   "outputs": [],
   "source": [
    "import pymongo\n",
    "from pymongo import MongoClient\n",
    "import pprint"
   ]
  },
  {
   "cell_type": "code",
   "execution_count": 28,
   "metadata": {},
   "outputs": [],
   "source": [
    "client = MongoClient()"
   ]
  },
  {
   "cell_type": "code",
   "execution_count": 29,
   "metadata": {},
   "outputs": [],
   "source": [
    "client = MongoClient('localhost', 27017)"
   ]
  },
  {
   "cell_type": "code",
   "execution_count": 34,
   "metadata": {},
   "outputs": [],
   "source": [
    "client = MongoClient('mongodb://localhost:27017/')"
   ]
  },
  {
   "cell_type": "code",
   "execution_count": 35,
   "metadata": {},
   "outputs": [],
   "source": [
    "db = client.question_answering"
   ]
  },
  {
   "cell_type": "code",
   "execution_count": 36,
   "metadata": {},
   "outputs": [],
   "source": [
    "collection = db.question_answer_pairs"
   ]
  },
  {
   "cell_type": "code",
   "execution_count": 40,
   "metadata": {},
   "outputs": [
    {
     "name": "stdout",
     "output_type": "stream",
     "text": [
      "{'_id': ObjectId('5c8d7e00c9a81c9eb1498c94'),\n",
      " 'answer': 'F1 is a sport',\n",
      " 'answer_date': datetime.datetime(2019, 3, 16, 22, 51, 54, 307000),\n",
      " 'answer_votes': 0.0,\n",
      " 'question': 'What is F1',\n",
      " 'question_categories': ['all'],\n",
      " 'question_date': datetime.datetime(2019, 3, 16, 22, 51, 44, 939000)}\n"
     ]
    }
   ],
   "source": [
    "pprint.pprint(collection.find_one())"
   ]
  },
  {
   "cell_type": "code",
   "execution_count": 37,
   "metadata": {},
   "outputs": [
    {
     "name": "stdout",
     "output_type": "stream",
     "text": [
      "{'_id': ObjectId('5c8d7e00c9a81c9eb1498c94'),\n",
      " 'answer': 'F1 is a sport',\n",
      " 'answer_date': datetime.datetime(2019, 3, 16, 22, 51, 54, 307000),\n",
      " 'answer_votes': 0.0,\n",
      " 'question': 'What is F1',\n",
      " 'question_categories': ['all'],\n",
      " 'question_date': datetime.datetime(2019, 3, 16, 22, 51, 44, 939000)}\n",
      "{'_id': ObjectId('5c8d7e12c9a81c9eb1498c95'),\n",
      " 'answer': 'F1 is a function key',\n",
      " 'answer_date': datetime.datetime(2019, 3, 16, 22, 52, 2, 858000),\n",
      " 'answer_votes': 0.0,\n",
      " 'question': 'What is F1',\n",
      " 'question_categories': ['all', 'computers'],\n",
      " 'question_date': datetime.datetime(2019, 3, 16, 22, 52, 2, 858000)}\n"
     ]
    }
   ],
   "source": [
    "for qa in collection.find({\"question\": \"What is F1\"}):\n",
    "    pprint.pprint(qa)\n"
   ]
  },
  {
   "cell_type": "code",
   "execution_count": 38,
   "metadata": {},
   "outputs": [
    {
     "data": {
      "text/plain": [
       "2"
      ]
     },
     "execution_count": 38,
     "metadata": {},
     "output_type": "execute_result"
    }
   ],
   "source": [
    "collection.count_documents({})"
   ]
  },
  {
   "cell_type": "code",
   "execution_count": 39,
   "metadata": {},
   "outputs": [
    {
     "data": {
      "text/plain": [
       "1"
      ]
     },
     "execution_count": 39,
     "metadata": {},
     "output_type": "execute_result"
    }
   ],
   "source": [
    "collection.count_documents({\"answer\": \"F1 is a function key\"})"
   ]
  }
 ],
 "metadata": {
  "kernelspec": {
   "display_name": "Python 3",
   "language": "python",
   "name": "python3"
  },
  "language_info": {
   "codemirror_mode": {
    "name": "ipython",
    "version": 3
   },
   "file_extension": ".py",
   "mimetype": "text/x-python",
   "name": "python",
   "nbconvert_exporter": "python",
   "pygments_lexer": "ipython3",
   "version": "3.5.6"
  }
 },
 "nbformat": 4,
 "nbformat_minor": 2
}
