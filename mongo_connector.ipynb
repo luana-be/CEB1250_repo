{
 "cells": [
  {
   "cell_type": "code",
   "execution_count": 11,
   "metadata": {},
   "outputs": [],
   "source": [
    "import pymongo\n",
    "from pymongo import MongoClient\n",
    "import datetime\n",
    "import pprint"
   ]
  },
  {
   "cell_type": "code",
   "execution_count": 5,
   "metadata": {},
   "outputs": [],
   "source": [
    "client = MongoClient()"
   ]
  },
  {
   "cell_type": "code",
   "execution_count": 6,
   "metadata": {},
   "outputs": [],
   "source": [
    "client = MongoClient('localhost', 27017)"
   ]
  },
  {
   "cell_type": "code",
   "execution_count": 7,
   "metadata": {},
   "outputs": [],
   "source": [
    "client = MongoClient('mongodb://localhost:27017/')"
   ]
  },
  {
   "cell_type": "code",
   "execution_count": 8,
   "metadata": {},
   "outputs": [],
   "source": [
    "db = client.question_answering"
   ]
  },
  {
   "cell_type": "code",
   "execution_count": 9,
   "metadata": {},
   "outputs": [],
   "source": [
    "collection = db.question_answer_pairs"
   ]
  },
  {
   "cell_type": "code",
   "execution_count": 16,
   "metadata": {},
   "outputs": [
    {
     "name": "stdout",
     "output_type": "stream",
     "text": [
      "{'_id': ObjectId('5c8d62875bb7f0b8cd876eee'),\n",
      " 'answer': 'F1 is a sport',\n",
      " 'answer_date': datetime.datetime(2019, 3, 16, 20, 54, 31, 894000),\n",
      " 'answer_votes': 0.0,\n",
      " 'question': 'What is F1',\n",
      " 'question_categories': ['all'],\n",
      " 'question_date': datetime.datetime(2019, 3, 16, 20, 54, 31, 840000)}\n"
     ]
    }
   ],
   "source": [
    "pprint.pprint(collection.find_one())"
   ]
  },
  {
   "cell_type": "code",
   "execution_count": 20,
   "metadata": {},
   "outputs": [
    {
     "name": "stdout",
     "output_type": "stream",
     "text": [
      "{'_id': ObjectId('5c8d62875bb7f0b8cd876eee'),\n",
      " 'answer': 'F1 is a sport',\n",
      " 'answer_date': datetime.datetime(2019, 3, 16, 20, 54, 31, 894000),\n",
      " 'answer_votes': 0.0,\n",
      " 'question': 'What is F1',\n",
      " 'question_categories': ['all'],\n",
      " 'question_date': datetime.datetime(2019, 3, 16, 20, 54, 31, 840000)}\n",
      "{'_id': ObjectId('5c8d62875bb7f0b8cd876eef'),\n",
      " 'answer': 'F1 is a function key',\n",
      " 'answer_date': datetime.datetime(2019, 3, 16, 20, 54, 31, 949000),\n",
      " 'answer_votes': 0.0,\n",
      " 'question': 'What is F1',\n",
      " 'question_categories': ['all', 'computers'],\n",
      " 'question_date': datetime.datetime(2019, 3, 16, 20, 54, 31, 949000)}\n"
     ]
    }
   ],
   "source": [
    "for qa in collection.find({\"question\": \"What is F1\"}):\n",
    "    pprint.pprint(qa)\n"
   ]
  },
  {
   "cell_type": "code",
   "execution_count": 21,
   "metadata": {},
   "outputs": [
    {
     "data": {
      "text/plain": [
       "2"
      ]
     },
     "execution_count": 21,
     "metadata": {},
     "output_type": "execute_result"
    }
   ],
   "source": [
    "collection.count_documents({})"
   ]
  },
  {
   "cell_type": "code",
   "execution_count": 26,
   "metadata": {},
   "outputs": [
    {
     "data": {
      "text/plain": [
       "1"
      ]
     },
     "execution_count": 26,
     "metadata": {},
     "output_type": "execute_result"
    }
   ],
   "source": [
    "collection.count_documents({\"answer\": \"F1 is a function key\"})"
   ]
  },
  {
   "cell_type": "code",
   "execution_count": null,
   "metadata": {},
   "outputs": [],
   "source": []
  }
 ],
 "metadata": {
  "kernelspec": {
   "display_name": "Python 3",
   "language": "python",
   "name": "python3"
  },
  "language_info": {
   "codemirror_mode": {
    "name": "ipython",
    "version": 3
   },
   "file_extension": ".py",
   "mimetype": "text/x-python",
   "name": "python",
   "nbconvert_exporter": "python",
   "pygments_lexer": "ipython3",
   "version": "3.5.6"
  }
 },
 "nbformat": 4,
 "nbformat_minor": 2
}
