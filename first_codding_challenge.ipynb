{
 "cells": [
  {
   "cell_type": "code",
   "execution_count": null,
   "metadata": {},
   "outputs": [],
   "source": [
    "#Ask the user for a number. Depending on whether the number is even or odd, print out an\n",
    "#appropriate message;\n",
    "number = input(\"Enter a number: \")"
   ]
  },
  {
   "cell_type": "code",
   "execution_count": null,
   "metadata": {
    "collapsed": true
   },
   "outputs": [],
   "source": [
    "def is_even(a_number):\n",
    "    mod_number = float(a_number)%2\n",
    "    if (mod_number == 0.0): \n",
    "        return True\n",
    "    else:\n",
    "        return False"
   ]
  },
  {
   "cell_type": "code",
   "execution_count": null,
   "metadata": {},
   "outputs": [],
   "source": [
    "if is_even(number): \n",
    "    print(number + \" is an even number\")\n",
    "else:\n",
    "    print(number + \" is an odd number\")"
   ]
  },
  {
   "cell_type": "code",
   "execution_count": null,
   "metadata": {},
   "outputs": [],
   "source": [
    "#Expanding the previous exercise, let’s say I give you a list saved in a variable: a = [1, 4, 9, 16, 25, 36,\n",
    "#49, 64, 81, 100]. Write one line of Python that takes this list a and makes a new list that has only the\n",
    "#even elements of this list in it.\n",
    "a = [1, 4, 9, 16, 25, 36, 49, 64, 81, 100]\n",
    "for number in a:\n",
    "    if is_even(number):\n",
    "        print(number)"
   ]
  },
  {
   "cell_type": "code",
   "execution_count": null,
   "metadata": {},
   "outputs": [],
   "source": [
    "#Create a function that takes a list of numbers. Return the largest number in the list.\n",
    "def print_largest(number_list):   \n",
    "    print(max(number_list))\n",
    "print_largest(a)"
   ]
  },
  {
   "cell_type": "code",
   "execution_count": null,
   "metadata": {},
   "outputs": [],
   "source": [
    "#Ask the user for a string and print out whether this string is a palindrome or not. (A palindrome is a\n",
    "#string that reads the same forwards and backwards.)\n",
    "def is_palindrome(a_string):\n",
    "    reverse_string = a_string[::-1]\n",
    "    if reverse_string == a_string:\n",
    "        return True\n",
    "    else:\n",
    "        return False\n",
    "    \n",
    "word = input('Enter a word: ')\n",
    "if is_palindrome(word):\n",
    "    print(word + ' is a palindrome')\n",
    "else:\n",
    "    print(word + ' is not a palindrome')   "
   ]
  },
  {
   "cell_type": "code",
   "execution_count": null,
   "metadata": {
    "collapsed": true
   },
   "outputs": [],
   "source": [
    "#Write a program that asks the user how many Fibonnaci numbers to generate and then generates them.\n"
   ]
  },
  {
   "cell_type": "code",
   "execution_count": null,
   "metadata": {
    "collapsed": true
   },
   "outputs": [],
   "source": [
    "#Write a program that takes a number and print its square.\n"
   ]
  },
  {
   "cell_type": "code",
   "execution_count": null,
   "metadata": {
    "collapsed": true
   },
   "outputs": [],
   "source": [
    "#Given an list of positive integers with higher than 0 the answer should contain average values.\n"
   ]
  },
  {
   "cell_type": "code",
   "execution_count": null,
   "metadata": {
    "collapsed": true
   },
   "outputs": [],
   "source": [
    "#Return the number of vowels per string.\n"
   ]
  },
  {
   "cell_type": "code",
   "execution_count": null,
   "metadata": {
    "collapsed": true
   },
   "outputs": [],
   "source": [
    "#Write a program to convert degrees of Fahrenheit to Celsius."
   ]
  },
  {
   "cell_type": "code",
   "execution_count": null,
   "metadata": {
    "collapsed": true
   },
   "outputs": [],
   "source": []
  },
  {
   "cell_type": "code",
   "execution_count": null,
   "metadata": {
    "collapsed": true
   },
   "outputs": [],
   "source": []
  }
 ],
 "metadata": {
  "kernelspec": {
   "display_name": "Python 3",
   "language": "python",
   "name": "python3"
  },
  "language_info": {
   "codemirror_mode": {
    "name": "ipython",
    "version": 3
   },
   "file_extension": ".py",
   "mimetype": "text/x-python",
   "name": "python",
   "nbconvert_exporter": "python",
   "pygments_lexer": "ipython3",
   "version": "3.6.1"
  }
 },
 "nbformat": 4,
 "nbformat_minor": 2
}
