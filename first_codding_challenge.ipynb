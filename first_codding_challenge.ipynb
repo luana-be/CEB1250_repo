{
 "cells": [
  {
   "cell_type": "code",
   "execution_count": null,
   "metadata": {
    "collapsed": true
   },
   "outputs": [],
   "source": [
    "#Ask the user for a number. Depending on whether the number is even or odd, print out an\n",
    "#appropriate message;\n",
    "number = input(\"Enter a number: \")"
   ]
  },
  {
   "cell_type": "code",
   "execution_count": null,
   "metadata": {
    "collapsed": true
   },
   "outputs": [],
   "source": [
    "def is_even(a_number):\n",
    "    mod_number = float(a_number)%2\n",
    "    if (mod_number == 0.0): \n",
    "        return True\n",
    "    else:\n",
    "        return False"
   ]
  },
  {
   "cell_type": "code",
   "execution_count": null,
   "metadata": {
    "collapsed": true
   },
   "outputs": [],
   "source": [
    "if is_even(number): \n",
    "    print(number + \" is an even number\")\n",
    "else:\n",
    "    print(number + \" is an odd number\")"
   ]
  },
  {
   "cell_type": "code",
   "execution_count": null,
   "metadata": {
    "collapsed": true
   },
   "outputs": [],
   "source": [
    "#Expanding the previous exercise, let’s say I give you a list saved in a variable: a = [1, 4, 9, 16, 25, 36,\n",
    "#49, 64, 81, 100]. Write one line of Python that takes this list a and makes a new list that has only the\n",
    "#even elements of this list in it.\n",
    "a = [1, 4, 9, 16, 25, 36, 49, 64, 81, 100]\n",
    "for number in a:\n",
    "    if is_even(number):\n",
    "        print(number)"
   ]
  },
  {
   "cell_type": "code",
   "execution_count": null,
   "metadata": {
    "collapsed": true
   },
   "outputs": [],
   "source": [
    "#Create a function that takes a list of numbers. Return the largest number in the list.\n",
    "def print_largest(number_list):   \n",
    "    print(max(number_list))\n",
    "print_largest(a)"
   ]
  },
  {
   "cell_type": "code",
   "execution_count": null,
   "metadata": {
    "collapsed": true
   },
   "outputs": [],
   "source": [
    "#Ask the user for a string and print out whether this string is a palindrome or not. (A palindrome is a\n",
    "#string that reads the same forwards and backwards.)\n",
    "def is_palindrome(a_string):\n",
    "    reverse_string = a_string[::-1]\n",
    "    if reverse_string == a_string:\n",
    "        return True\n",
    "    else:\n",
    "        return False\n",
    "    \n",
    "word = input('Enter a word: ')\n",
    "if is_palindrome(word):\n",
    "    print(word + ' is a palindrome')\n",
    "else:\n",
    "    print(word + ' is not a palindrome')   "
   ]
  },
  {
   "cell_type": "code",
   "execution_count": 3,
   "metadata": {},
   "outputs": [
    {
     "name": "stdout",
     "output_type": "stream",
     "text": [
      "How many Fibonnaci numbers you'd like to generate? 2\n",
      "Here are your Fibonacci numbers: [1, 1]\n"
     ]
    }
   ],
   "source": [
    "#Write a program that asks the user how many Fibonnaci numbers to generate and then generates them.\n",
    "def Fibonnaci(n):   \n",
    "    serie = [1, 1]  \n",
    "    for i in range(2,n+1):\n",
    "        serie = serie + [serie[i-1] + serie[i-2]] \n",
    "    return serie[:n]\n",
    "\n",
    "nFib = int(input('How many Fibonnaci numbers you\\'d like to generate? '))\n",
    "if nFib > 0:\n",
    "    print ('Here are your Fibonacci numbers: ' + str(Fibonnaci(nFib))) "
   ]
  },
  {
   "cell_type": "code",
   "execution_count": 18,
   "metadata": {},
   "outputs": [
    {
     "name": "stdout",
     "output_type": "stream",
     "text": [
      "Enter a number 10\n",
      "The square of 10.0 is 100.0\n"
     ]
    }
   ],
   "source": [
    "#Write a program that takes a number and print its square.\n",
    "def get_square(n):\n",
    "    return n*n\n",
    "\n",
    "x = float(input('Enter a number '))\n",
    "print('The square of ' + str(x) + ' is ' + str(get_square(x)))"
   ]
  },
  {
   "cell_type": "code",
   "execution_count": 75,
   "metadata": {},
   "outputs": [
    {
     "name": "stdout",
     "output_type": "stream",
     "text": [
      "Average: 38.5\n"
     ]
    }
   ],
   "source": [
    "#Given an list of positive integers with higher than 0 the answer should contain average values.\n",
    "def is_positive(a_list):    \n",
    "    neg = [i for i in a_list if i < 0]\n",
    "    zero = [j for j in a_list if j == 0]     \n",
    "    if len(neg) == 0 and len(zero) == 0:\n",
    "        return True\n",
    "    else:\n",
    "        return False   \n",
    "\n",
    "def is_integer(a_list):       \n",
    "    not_int = [k for k in a_list if isinstance(k, int) == False]\n",
    "    if len(not_int) == 0:\n",
    "        return True\n",
    "    else:\n",
    "        return False  \n",
    "    \n",
    "def get_average(a_list):  \n",
    "    if is_positive(a_list) and is_integer(a_list):\n",
    "        print('Average: ' + str(sum(a_list)/len(a_list)))\n",
    "    else:\n",
    "        print('Error: your list should contain only positive integers.')\n",
    "\n",
    "a = [1, 4, 9, 16, 25, 36, 49, 64, 81, 100]\n",
    "get_average(a)"
   ]
  },
  {
   "cell_type": "code",
   "execution_count": 92,
   "metadata": {},
   "outputs": [
    {
     "data": {
      "text/plain": [
       "3"
      ]
     },
     "execution_count": 92,
     "metadata": {},
     "output_type": "execute_result"
    }
   ],
   "source": [
    "#Return the number of vowels per string.\n",
    "def get_nVowels(a_string):\n",
    "    vowels = ['a','e','i','o','u']\n",
    "    n_vowels = 0\n",
    "    for i in a_string:\n",
    "        if i in vowels:\n",
    "            n_vowels = n_vowels+1 \n",
    "    return n_vowels\n",
    "\n",
    "word = 'LuAnA'\n",
    "get_nVowels(word.lower())\n"
   ]
  },
  {
   "cell_type": "code",
   "execution_count": 88,
   "metadata": {},
   "outputs": [
    {
     "data": {
      "text/plain": [
       "21.11111111111111"
      ]
     },
     "execution_count": 88,
     "metadata": {},
     "output_type": "execute_result"
    }
   ],
   "source": [
    "#Write a program to convert degrees of Fahrenheit to Celsius.\n",
    "def Fahrenheit2Celsius(F):\n",
    "    return (F - 32) * 5/9\n",
    "Fahrenheit2Celsius(70)"
   ]
  },
  {
   "cell_type": "code",
   "execution_count": null,
   "metadata": {
    "collapsed": true
   },
   "outputs": [],
   "source": []
  }
 ],
 "metadata": {
  "kernelspec": {
   "display_name": "Python 3",
   "language": "python",
   "name": "python3"
  },
  "language_info": {
   "codemirror_mode": {
    "name": "ipython",
    "version": 3
   },
   "file_extension": ".py",
   "mimetype": "text/x-python",
   "name": "python",
   "nbconvert_exporter": "python",
   "pygments_lexer": "ipython3",
   "version": "3.5.6"
  }
 },
 "nbformat": 4,
 "nbformat_minor": 2
}
